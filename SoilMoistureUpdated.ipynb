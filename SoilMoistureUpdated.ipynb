{
  "nbformat": 4,
  "nbformat_minor": 0,
  "metadata": {
    "colab": {
      "provenance": [],
      "authorship_tag": "ABX9TyPaOHc2LKgNEb2kZ5zvc+I3",
      "include_colab_link": true
    },
    "kernelspec": {
      "name": "python3",
      "display_name": "Python 3"
    },
    "language_info": {
      "name": "python"
    }
  },
  "cells": [
    {
      "cell_type": "markdown",
      "metadata": {
        "id": "view-in-github",
        "colab_type": "text"
      },
      "source": [
        "<a href=\"https://colab.research.google.com/github/ojas2412/SIHrepo/blob/main/SoilMoistureUpdated.ipynb\" target=\"_parent\"><img src=\"https://colab.research.google.com/assets/colab-badge.svg\" alt=\"Open In Colab\"/></a>"
      ]
    },
    {
      "cell_type": "code",
      "execution_count": null,
      "metadata": {
        "id": "YkAqo7oSs9AZ"
      },
      "outputs": [],
      "source": [
        "from google.colab import drive\n",
        "drive.mount('/content/drive')"
      ]
    },
    {
      "cell_type": "code",
      "source": [
        "!pip install tensorflow"
      ],
      "metadata": {
        "id": "UmyWEl_NtJyD"
      },
      "execution_count": null,
      "outputs": []
    },
    {
      "cell_type": "code",
      "source": [
        "import pandas as pd\n",
        "import seaborn as sb\n",
        "import sklearn as sk\n",
        "import numpy as np\n",
        "import tensorflow as tf"
      ],
      "metadata": {
        "id": "K3mK2vhwtKaN"
      },
      "execution_count": null,
      "outputs": []
    },
    {
      "cell_type": "code",
      "source": [
        "from sklearn.metrics import mean_squared_error\n",
        "from sklearn.linear_model import LinearRegression\n",
        "from xgboost import XGBRegressor\n",
        "from tensorflow.keras.models import Sequential\n",
        "from tensorflow.keras.layers import Dense\n",
        "import matplotlib.pyplot as plt"
      ],
      "metadata": {
        "id": "HRwuH7-QtPH2"
      },
      "execution_count": null,
      "outputs": []
    },
    {
      "cell_type": "code",
      "source": [
        "#Importing and displaying the dataset\n",
        "dataset = pd.read_csv('/content/drive/MyDrive/SIH/soilmoisture_updated.csv')\n",
        "dataset.head()"
      ],
      "metadata": {
        "id": "_K4-CeYOtRF2"
      },
      "execution_count": null,
      "outputs": []
    },
    {
      "cell_type": "code",
      "source": [
        "#Generating scatter plots to view data distribution\n",
        "sb.scatterplot(x = dataset['Time'] , y = dataset['Soil Moisture Difference'])"
      ],
      "metadata": {
        "id": "TaGcUALPtTKj"
      },
      "execution_count": null,
      "outputs": []
    },
    {
      "cell_type": "code",
      "source": [
        "# Split the data into features (X) and target (y)\n",
        "X = dataset[['Air Temperature ', 'Air Humidity ', 'Rainfall Indicator ']]\n",
        "y = dataset['Soil Moisture Difference']\n",
        "\n",
        "from sklearn.model_selection import train_test_split\n",
        "# Split data into training and testing sets\n",
        "X_train, X_test, y_train, y_test = train_test_split(X, y, test_size=0.08, random_state=40)"
      ],
      "metadata": {
        "id": "QGN-67NNtXgn"
      },
      "execution_count": null,
      "outputs": []
    },
    {
      "cell_type": "code",
      "source": [
        "#Training the Linear Regression Model\n",
        "\n",
        "# Initializing\n",
        "lr_model = LinearRegression()\n",
        "\n",
        "# Model training\n",
        "lr_model.fit(X_train, y_train)\n",
        "\n",
        "# Predict using test data\n",
        "lr_predictions = lr_model.predict(X_test)"
      ],
      "metadata": {
        "id": "5dJYMNnWtdkF"
      },
      "execution_count": null,
      "outputs": []
    },
    {
      "cell_type": "code",
      "source": [
        "#Training Neural Network\n",
        "\n",
        "# Initializing\n",
        "nn_model = Sequential([\n",
        "    Dense(64, input_dim=3, activation='relu'),\n",
        "    Dense(32, activation='relu'),\n",
        "    Dense(1)\n",
        "])\n",
        "\n",
        "# Compile\n",
        "nn_model.compile(optimizer='adam', loss='mean_squared_error')\n",
        "\n",
        "# Training\n",
        "nn_model.fit(X_train, y_train, epochs=50, batch_size=32, verbose=0)"
      ],
      "metadata": {
        "id": "Oc_9XqWFth3I"
      },
      "execution_count": null,
      "outputs": []
    },
    {
      "cell_type": "code",
      "source": [
        "# Calculating RMSE for Linear Regression\n",
        "lr_rmse = mean_squared_error(y_test, lr_predictions, squared=False)\n",
        "\n",
        "print(f'Linear Regression RMSE: {lr_rmse}')\n",
        "\n",
        "# Evaluating Neural Meet\n",
        "nn_rmse = nn_model.evaluate(X_test, y_test, verbose=0)\n",
        "\n",
        "print(f'Neural Network RMSE: {nn_rmse**0.5}')"
      ],
      "metadata": {
        "id": "unuBYHGdtjvx"
      },
      "execution_count": null,
      "outputs": []
    },
    {
      "cell_type": "code",
      "source": [
        "input_values = [[30, 48.4 , 0]]\n",
        "predicted_soil_moisture = lr_model.predict(input_values)\n",
        "print(predicted_soil_moisture[0])"
      ],
      "metadata": {
        "id": "JksZEq-nusQz"
      },
      "execution_count": null,
      "outputs": []
    },
    {
      "cell_type": "code",
      "source": [
        "#Predicting soil moisture at next sampling instant using output of previous predicted soil moisture"
      ],
      "metadata": {
        "id": "1DUYXmTm-kd5"
      },
      "execution_count": null,
      "outputs": []
    },
    {
      "cell_type": "code",
      "source": [
        "#Using this algorithm, we can predict the soil moisture. By comparing this value to backend database optimum moisture value, we can decide the percentage of moisture level to be increased."
      ],
      "metadata": {
        "id": "rJkFB1n1-Djz"
      },
      "execution_count": null,
      "outputs": []
    },
    {
      "cell_type": "code",
      "source": [
        "# To prevent over-irrigation, we adopt a 'stable-equilibrium' approach'. The amount of water added through irrigation is to achieve a percentage lesser than that of the actual soil moisture."
      ],
      "metadata": {
        "id": "nuFwqvEZ__Ne"
      },
      "execution_count": null,
      "outputs": []
    },
    {
      "cell_type": "code",
      "source": [
        "#The value of this 'safe percentage' is 70% of the difference between optimum and actual soil moisture."
      ],
      "metadata": {
        "id": "ZJc85k64A__q"
      },
      "execution_count": null,
      "outputs": []
    },
    {
      "cell_type": "code",
      "source": [
        "#In the presence of good atmospheric conditions, moisture content requirement will be satisfied by these conditions, if not, soil moisture will gradually reach the optimum value using this formula."
      ],
      "metadata": {
        "id": "FeHhlsGIDsVY"
      },
      "execution_count": null,
      "outputs": []
    },
    {
      "cell_type": "code",
      "source": [
        "actual_moisture = 27.5\n",
        "predicted_moisture = 26\n",
        "diff = actual_moisture - predicted_moisture\n",
        "irrig = 0\n",
        "\n",
        "if(diff > 0):\n",
        "  pass\n",
        "else:\n",
        "  irrig = (0.7)*diff\n",
        "\n",
        "print('Increase Desired', irrig)\n",
        "#This value of 'irrigation water added' in this time interval is inserted back into the training dataset. Hence, this logic is maintained throughout the training dataset generation, notwithstanding presence of AI\n",
        "\n"
      ],
      "metadata": {
        "id": "MAWm36-RENzl"
      },
      "execution_count": null,
      "outputs": []
    },
    {
      "cell_type": "code",
      "source": [
        "#Manual control can be activated at any instance. This switches valve opening and closing conditions into the user's control completely."
      ],
      "metadata": {
        "id": "BlMD7OY3FC58"
      },
      "execution_count": null,
      "outputs": []
    },
    {
      "cell_type": "code",
      "source": [
        "#Valve volume calculation\n",
        "\n",
        "#Desired volume of water = Moisture content * Volume of soil captured by sensors\n",
        "#The valves are controlled by the amount of time required to keep them open\n",
        "#Time = Desired volume / Valve flow rate\n"
      ],
      "metadata": {
        "id": "QyALQvjJEU7n"
      },
      "execution_count": null,
      "outputs": []
    },
    {
      "cell_type": "code",
      "source": [
        "#Hence, we can effectively control the valve opening and closing timings by utilising a predictive AI model"
      ],
      "metadata": {
        "id": "oNIfJD_bFkkS"
      },
      "execution_count": null,
      "outputs": []
    }
  ]
}